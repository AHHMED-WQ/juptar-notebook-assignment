{
 "cells": [
  {
   "cell_type": "code",
   "execution_count": 24,
   "id": "90ef4537-5104-445f-b955-71009ade1c2f",
   "metadata": {},
   "outputs": [
    {
     "name": "stdin",
     "output_type": "stream",
     "text": [
      "enter your age:  18\n"
     ]
    },
    {
     "name": "stdout",
     "output_type": "stream",
     "text": [
      "eligible to vote\n"
     ]
    }
   ],
   "source": [
    "#question no 1\n",
    "\n",
    "age=int(input(\"enter your age: \"))\n",
    "if  age>=18:\n",
    "   print(\"eligible to vote\")\n",
    "else:\n",
    "    print(\"eligible to vote\")"
   ]
  },
  {
   "cell_type": "code",
   "execution_count": 87,
   "id": "8f7f3096-ef28-4b42-aeb5-ea0c0e7302b4",
   "metadata": {},
   "outputs": [
    {
     "name": "stdin",
     "output_type": "stream",
     "text": [
      "Enter a number:  5\n"
     ]
    },
    {
     "name": "stdout",
     "output_type": "stream",
     "text": [
      "5\n",
      "10\n",
      "15\n",
      "20\n",
      "25\n",
      "30\n",
      "35\n",
      "40\n",
      "45\n",
      "50\n"
     ]
    }
   ],
   "source": [
    "#question no 2\n",
    "\n",
    "num = int(input(\"Enter a number: \"))\n",
    "a=0\n",
    "for i in range(1, 11):\n",
    "    a=num*i\n",
    "    print(a)\n",
    "    "
   ]
  },
  {
   "cell_type": "code",
   "execution_count": 86,
   "id": "1cd92be6-ec81-4088-83d6-007d53756cd1",
   "metadata": {},
   "outputs": [
    {
     "name": "stdin",
     "output_type": "stream",
     "text": [
      "Enter a number:  6\n"
     ]
    },
    {
     "name": "stdout",
     "output_type": "stream",
     "text": [
      "6 x 1 = 6\n",
      "6 x 2 = 12\n",
      "6 x 3 = 18\n",
      "6 x 4 = 24\n",
      "6 x 5 = 30\n",
      "6 x 6 = 36\n",
      "6 x 7 = 42\n",
      "6 x 8 = 48\n",
      "6 x 9 = 54\n",
      "6 x 10 = 60\n"
     ]
    }
   ],
   "source": [
    "#also\n",
    "#question no 2\n",
    "num = int(input(\"Enter a number: \"))\n",
    "\n",
    "for i in range(1, 11):\n",
    "    print(f\"{num} x {i} = {num * i}\")"
   ]
  },
  {
   "cell_type": "code",
   "execution_count": 112,
   "id": "95756361-2aee-4a3d-ba1d-21053ed82cb6",
   "metadata": {},
   "outputs": [
    {
     "name": "stdin",
     "output_type": "stream",
     "text": [
      "Enter first number: 5\n",
      "Enter second number: 8\n",
      "Enter third number: 9\n"
     ]
    },
    {
     "name": "stdout",
     "output_type": "stream",
     "text": [
      "the largest number is 9\n"
     ]
    }
   ],
   "source": [
    "#question no 3 \n",
    "x = int(input(\"Enter first number:\"))\n",
    "y = int(input(\"Enter second number:\"))\n",
    "z = int(input(\"Enter third number:\"))\n",
    "list = (x, y, z)\n",
    "for n in range(1):\n",
    "    if x >= y and x >= z:\n",
    "        largest = x\n",
    "    elif x <= y and y >= z:\n",
    "        largest = y\n",
    "    else:\n",
    "        largest = z\n",
    "print(\"the largest number is\", largest)"
   ]
  },
  {
   "cell_type": "code",
   "execution_count": 111,
   "id": "c5fc70f6-4a7d-4132-8b00-a8565f1aa02a",
   "metadata": {},
   "outputs": [
    {
     "name": "stdin",
     "output_type": "stream",
     "text": [
      "Enter first number: 7\n",
      "Enter second number: 3\n",
      "Enter third number: 9\n"
     ]
    },
    {
     "name": "stdout",
     "output_type": "stream",
     "text": [
      "the second largest number is 7\n"
     ]
    }
   ],
   "source": [
    "#question no 4\n",
    "x = int(input(\"Enter first number:\"))\n",
    "y = int(input(\"Enter second number:\"))\n",
    "z = int(input(\"Enter third number:\"))\n",
    "list = (x, y, z)\n",
    "for n in range(1):\n",
    "    if x >= y and x <= z:\n",
    "        second_largest = x\n",
    "    elif x <= y and y <= z:\n",
    "        second_largest = y\n",
    "    else:\n",
    "        second_largest = z\n",
    "print(\"the second largest number is\", second_largest)\n"
   ]
  },
  {
   "cell_type": "code",
   "execution_count": 114,
   "id": "4960ae4f-fd8a-4889-b63c-592c71072ea3",
   "metadata": {},
   "outputs": [
    {
     "name": "stdin",
     "output_type": "stream",
     "text": [
      "Enter first number:  9\n",
      "Enter second number:  3\n"
     ]
    },
    {
     "name": "stdout",
     "output_type": "stream",
     "text": [
      "The LCM of 9 and 3 is: 9\n"
     ]
    }
   ],
   "source": [
    "#question no 5\n",
    "num1 = int(input(\"Enter first number: \"))\n",
    "num2 = int(input(\"Enter second number: \"))\n",
    "\n",
    "lcm = max(num1, num2)\n",
    "while True:\n",
    "    if lcm % num1 == 0 and lcm % num2 == 0:\n",
    "        break\n",
    "    lcm += 1\n",
    "\n",
    "print(\"The LCM of\", num1, \"and\", num2, \"is:\", lcm)"
   ]
  },
  {
   "cell_type": "code",
   "execution_count": 115,
   "id": "116ac358-c646-4346-b271-f564d4174739",
   "metadata": {},
   "outputs": [
    {
     "name": "stdout",
     "output_type": "stream",
     "text": [
      "* * * * * \n",
      "* * * * * \n",
      "* * * * * \n",
      "* * * * * \n",
      "* * * * * \n"
     ]
    }
   ],
   "source": [
    "#question no 6\n",
    "for i in range(5):\n",
    "    print(\"* \" * 5)"
   ]
  },
  {
   "cell_type": "code",
   "execution_count": 117,
   "id": "1037e242-002e-487c-a5f2-188e7c52b079",
   "metadata": {},
   "outputs": [
    {
     "name": "stdin",
     "output_type": "stream",
     "text": [
      "Enter a number:  330\n"
     ]
    },
    {
     "name": "stdout",
     "output_type": "stream",
     "text": [
      "2\n",
      "3\n",
      "5\n",
      "11\n"
     ]
    }
   ],
   "source": [
    "#question no 7\n",
    "x=int(input(\"Enter a number: \"))\n",
    "i=2\n",
    "while x > 1:\n",
    "    if x % i == 0:\n",
    "        print(i)\n",
    "        x = x // i\n",
    "    else:\n",
    "        i += 1"
   ]
  },
  {
   "cell_type": "code",
   "execution_count": 118,
   "id": "a381d9e9-624c-43df-8d90-5584bd8d9849",
   "metadata": {},
   "outputs": [
    {
     "name": "stdin",
     "output_type": "stream",
     "text": [
      "Enter a sentence:  computational finance\n"
     ]
    },
    {
     "name": "stdout",
     "output_type": "stream",
     "text": [
      "No, it's not a pangram.\n"
     ]
    }
   ],
   "source": [
    "#question no 8\n",
    "text = input(\"Enter a sentence: \")\n",
    "alphabet = \"abcdefghijklmnopqrstuvwxyz\"\n",
    "for  char in alphabet:\n",
    "    if char not in text:\n",
    "        print(\"No, it's not a pangram.\")\n",
    "        break\n",
    "else:\n",
    "    print(\"Yes, it's a pangram!\")"
   ]
  },
  {
   "cell_type": "code",
   "execution_count": 121,
   "id": "4cf9d723-e26c-4e8c-a4bb-58415bd80fad",
   "metadata": {},
   "outputs": [
    {
     "name": "stdin",
     "output_type": "stream",
     "text": [
      "Enter any word:  chemistry\n"
     ]
    },
    {
     "name": "stdout",
     "output_type": "stream",
     "text": [
      "c: 1\n",
      "h: 1\n",
      "e: 1\n",
      "m: 1\n",
      "i: 1\n",
      "s: 1\n",
      "t: 1\n",
      "r: 1\n",
      "y: 1\n"
     ]
    }
   ],
   "source": [
    "#question no 9\n",
    "string = input(\"Enter any word: \")\n",
    "for i in string:\n",
    "    frequency = string.lower().count(i)\n",
    "    print(str(i) + \": \" + str(frequency))"
   ]
  },
  {
   "cell_type": "code",
   "execution_count": 125,
   "id": "18d99043-e76f-4975-a5e6-f33ff9527b0d",
   "metadata": {},
   "outputs": [
    {
     "name": "stdin",
     "output_type": "stream",
     "text": [
      "Enter any sentences:  my university is my favourite place\n"
     ]
    },
    {
     "name": "stdout",
     "output_type": "stream",
     "text": [
      "35\n"
     ]
    }
   ],
   "source": [
    "#question no 10\n",
    "x=str(input(\"Enter any sentences: \"))\n",
    "print(len(x))"
   ]
  },
  {
   "cell_type": "code",
   "execution_count": null,
   "id": "16f11322-3c29-489d-8894-9a842b69553e",
   "metadata": {},
   "outputs": [],
   "source": []
  }
 ],
 "metadata": {
  "kernelspec": {
   "display_name": "Python 3 (ipykernel)",
   "language": "python",
   "name": "python3"
  },
  "language_info": {
   "codemirror_mode": {
    "name": "ipython",
    "version": 3
   },
   "file_extension": ".py",
   "mimetype": "text/x-python",
   "name": "python",
   "nbconvert_exporter": "python",
   "pygments_lexer": "ipython3",
   "version": "3.12.4"
  }
 },
 "nbformat": 4,
 "nbformat_minor": 5
}
